{
 "cells": [
  {
   "cell_type": "code",
   "execution_count": 1,
   "id": "04dd5b51",
   "metadata": {},
   "outputs": [
    {
     "name": "stdout",
     "output_type": "stream",
     "text": [
      "Collecting xlrd\n",
      "  Using cached xlrd-2.0.1-py2.py3-none-any.whl (96 kB)\n",
      "Installing collected packages: xlrd\n",
      "Successfully installed xlrd-2.0.1\n",
      "Note: you may need to restart the kernel to use updated packages.\n"
     ]
    }
   ],
   "source": [
    "pip install xlrd"
   ]
  },
  {
   "cell_type": "code",
   "execution_count": 2,
   "id": "17c347ac",
   "metadata": {},
   "outputs": [
    {
     "name": "stdout",
     "output_type": "stream",
     "text": [
      "Collecting psycopg2\n",
      "  Obtaining dependency information for psycopg2 from https://files.pythonhosted.org/packages/bc/bc/6572dec6834e779668421e25f8812a872d978e241f85491a5e4dda606a98/psycopg2-2.9.9-cp310-cp310-win_amd64.whl.metadata\n",
      "  Downloading psycopg2-2.9.9-cp310-cp310-win_amd64.whl.metadata (4.5 kB)\n",
      "Downloading psycopg2-2.9.9-cp310-cp310-win_amd64.whl (1.2 MB)\n",
      "   ---------------------------------------- 0.0/1.2 MB ? eta -:--:--\n",
      "   --- ------------------------------------ 0.1/1.2 MB 3.3 MB/s eta 0:00:01\n",
      "   -------------- ------------------------- 0.4/1.2 MB 5.3 MB/s eta 0:00:01\n",
      "   ------------------------------------- -- 1.1/1.2 MB 8.7 MB/s eta 0:00:01\n",
      "   ---------------------------------------- 1.2/1.2 MB 7.4 MB/s eta 0:00:00\n",
      "Installing collected packages: psycopg2\n",
      "Successfully installed psycopg2-2.9.9\n",
      "Note: you may need to restart the kernel to use updated packages.\n"
     ]
    }
   ],
   "source": [
    "pip install psycopg2"
   ]
  },
  {
   "cell_type": "code",
   "execution_count": 5,
   "id": "d7481467",
   "metadata": {},
   "outputs": [],
   "source": [
    "import pandas as pd\n",
    "import xlrd\n",
    "import psycopg2\n",
    "from sqlalchemy import create_engine"
   ]
  },
  {
   "cell_type": "markdown",
   "id": "69746f3d",
   "metadata": {},
   "source": [
    "## Cleaning Data"
   ]
  },
  {
   "cell_type": "code",
   "execution_count": 6,
   "id": "8b9e8cde",
   "metadata": {},
   "outputs": [
    {
     "name": "stdout",
     "output_type": "stream",
     "text": [
      "Index(['Ano', 'Código da Grande Região', 'Nome da Grande Região',\n",
      "       'Código da Unidade da Federação', 'Sigla da Unidade da Federação',\n",
      "       'Nome da Unidade da Federação', 'Código do Município',\n",
      "       'Nome do Município', 'Região Metropolitana', 'Código da Mesorregião',\n",
      "       'Nome da Mesorregião', 'Código da Microrregião', 'Nome da Microrregião',\n",
      "       'Código da Região Geográfica Imediata',\n",
      "       'Nome da Região Geográfica Imediata',\n",
      "       'Município da Região Geográfica Imediata',\n",
      "       'Código da Região Geográfica Intermediária',\n",
      "       'Nome da Região Geográfica Intermediária',\n",
      "       'Município da Região Geográfica Intermediária',\n",
      "       'Código Concentração Urbana', 'Nome Concentração Urbana',\n",
      "       'Tipo Concentração Urbana', 'Código Arranjo Populacional',\n",
      "       'Nome Arranjo Populacional', 'Hierarquia Urbana',\n",
      "       'Hierarquia Urbana (principais categorias)', 'Código da Região Rural',\n",
      "       'Nome da Região Rural',\n",
      "       'Região rural (segundo classificação do núcleo)', 'Amazônia Legal',\n",
      "       'Semiárido', 'Cidade-Região de São Paulo',\n",
      "       'Valor adicionado bruto da Agropecuária, \\na preços correntes\\n(R$ 1.000)',\n",
      "       'Valor adicionado bruto da Indústria,\\na preços correntes\\n(R$ 1.000)',\n",
      "       'Valor adicionado bruto dos Serviços,\\na preços correntes \\n- exceto Administração, defesa, educação e saúde públicas e seguridade social\\n(R$ 1.000)',\n",
      "       'Valor adicionado bruto da Administração, defesa, educação e saúde públicas e seguridade social, \\na preços correntes\\n(R$ 1.000)',\n",
      "       'Valor adicionado bruto total, \\na preços correntes\\n(R$ 1.000)',\n",
      "       'Impostos, líquidos de subsídios, sobre produtos, \\na preços correntes\\n(R$ 1.000)',\n",
      "       'Produto Interno Bruto, \\na preços correntes\\n(R$ 1.000)',\n",
      "       'Produto Interno Bruto per capita, \\na preços correntes\\n(R$ 1,00)',\n",
      "       'Atividade com maior valor adicionado bruto',\n",
      "       'Atividade com segundo maior valor adicionado bruto',\n",
      "       'Atividade com terceiro maior valor adicionado bruto'],\n",
      "      dtype='object')\n"
     ]
    }
   ],
   "source": [
    "file_path = 'dataset/ibge/PIB dos Municípios - base de dados 2010-2020.xls'\n",
    "df = pd.read_excel(file_path)\n",
    "\n",
    "# print the column names to verify their exact names in the dataset\n",
    "print(df.columns)"
   ]
  },
  {
   "cell_type": "code",
   "execution_count": 8,
   "id": "0d4c019f",
   "metadata": {
    "scrolled": true
   },
   "outputs": [
    {
     "data": {
      "text/html": [
       "<div>\n",
       "<style scoped>\n",
       "    .dataframe tbody tr th:only-of-type {\n",
       "        vertical-align: middle;\n",
       "    }\n",
       "\n",
       "    .dataframe tbody tr th {\n",
       "        vertical-align: top;\n",
       "    }\n",
       "\n",
       "    .dataframe thead th {\n",
       "        text-align: right;\n",
       "    }\n",
       "</style>\n",
       "<table border=\"1\" class=\"dataframe\">\n",
       "  <thead>\n",
       "    <tr style=\"text-align: right;\">\n",
       "      <th></th>\n",
       "      <th>year</th>\n",
       "      <th>region_code</th>\n",
       "      <th>region_name</th>\n",
       "      <th>uf_code</th>\n",
       "      <th>uf_acronym</th>\n",
       "      <th>uf_name</th>\n",
       "      <th>municipality_code</th>\n",
       "      <th>municipality_name</th>\n",
       "      <th>gdp</th>\n",
       "      <th>gdp_capita</th>\n",
       "    </tr>\n",
       "  </thead>\n",
       "  <tbody>\n",
       "    <tr>\n",
       "      <th>0</th>\n",
       "      <td>2010</td>\n",
       "      <td>1</td>\n",
       "      <td>Norte</td>\n",
       "      <td>11</td>\n",
       "      <td>RO</td>\n",
       "      <td>Rondônia</td>\n",
       "      <td>1100015</td>\n",
       "      <td>Alta Floresta D'Oeste</td>\n",
       "      <td>262076.878</td>\n",
       "      <td>10731.18</td>\n",
       "    </tr>\n",
       "    <tr>\n",
       "      <th>1</th>\n",
       "      <td>2010</td>\n",
       "      <td>1</td>\n",
       "      <td>Norte</td>\n",
       "      <td>11</td>\n",
       "      <td>RO</td>\n",
       "      <td>Rondônia</td>\n",
       "      <td>1100023</td>\n",
       "      <td>Ariquemes</td>\n",
       "      <td>1364693.780</td>\n",
       "      <td>15103.86</td>\n",
       "    </tr>\n",
       "    <tr>\n",
       "      <th>2</th>\n",
       "      <td>2010</td>\n",
       "      <td>1</td>\n",
       "      <td>Norte</td>\n",
       "      <td>11</td>\n",
       "      <td>RO</td>\n",
       "      <td>Rondônia</td>\n",
       "      <td>1100031</td>\n",
       "      <td>Cabixi</td>\n",
       "      <td>69611.114</td>\n",
       "      <td>11033.62</td>\n",
       "    </tr>\n",
       "    <tr>\n",
       "      <th>3</th>\n",
       "      <td>2010</td>\n",
       "      <td>1</td>\n",
       "      <td>Norte</td>\n",
       "      <td>11</td>\n",
       "      <td>RO</td>\n",
       "      <td>Rondônia</td>\n",
       "      <td>1100049</td>\n",
       "      <td>Cacoal</td>\n",
       "      <td>1186494.091</td>\n",
       "      <td>15095.15</td>\n",
       "    </tr>\n",
       "    <tr>\n",
       "      <th>4</th>\n",
       "      <td>2010</td>\n",
       "      <td>1</td>\n",
       "      <td>Norte</td>\n",
       "      <td>11</td>\n",
       "      <td>RO</td>\n",
       "      <td>Rondônia</td>\n",
       "      <td>1100056</td>\n",
       "      <td>Cerejeiras</td>\n",
       "      <td>222021.189</td>\n",
       "      <td>13037.06</td>\n",
       "    </tr>\n",
       "  </tbody>\n",
       "</table>\n",
       "</div>"
      ],
      "text/plain": [
       "   year  region_code region_name  uf_code uf_acronym   uf_name  \\\n",
       "0  2010            1       Norte       11         RO  Rondônia   \n",
       "1  2010            1       Norte       11         RO  Rondônia   \n",
       "2  2010            1       Norte       11         RO  Rondônia   \n",
       "3  2010            1       Norte       11         RO  Rondônia   \n",
       "4  2010            1       Norte       11         RO  Rondônia   \n",
       "\n",
       "   municipality_code      municipality_name          gdp  gdp_capita  \n",
       "0            1100015  Alta Floresta D'Oeste   262076.878    10731.18  \n",
       "1            1100023              Ariquemes  1364693.780    15103.86  \n",
       "2            1100031                 Cabixi    69611.114    11033.62  \n",
       "3            1100049                 Cacoal  1186494.091    15095.15  \n",
       "4            1100056             Cerejeiras   222021.189    13037.06  "
      ]
     },
     "execution_count": 8,
     "metadata": {},
     "output_type": "execute_result"
    }
   ],
   "source": [
    "# select the desired columns with exact names\n",
    "selected_columns = [\n",
    "    'Ano',\n",
    "    'Código da Grande Região',\n",
    "    'Nome da Grande Região',\n",
    "    'Código da Unidade da Federação',\n",
    "    'Sigla da Unidade da Federação',\n",
    "    'Nome da Unidade da Federação',\n",
    "    'Código do Município',\n",
    "    'Nome do Município',\n",
    "   'Produto Interno Bruto, \\na preços correntes\\n(R$ 1.000)',\n",
    "       'Produto Interno Bruto per capita, \\na preços correntes\\n(R$ 1,00)',\n",
    "]\n",
    "\n",
    "# create a new DataFrame with the selected columns\n",
    "filtered_df = df[selected_columns]\n",
    "\n",
    "# rename the columns\n",
    "filtered_df.columns = [\n",
    "    'year',\n",
    "    'region_code',\n",
    "    'region_name',\n",
    "    'uf_code',\n",
    "    'uf_acronym',\n",
    "    'uf_name',\n",
    "    'municipality_code',\n",
    "    'municipality_name',\n",
    "    'gdp',\n",
    "    'gdp_capita'\n",
    "]\n",
    "\n",
    "# Display the first few rows of the filtered DataFrame\n",
    "filtered_df.head()"
   ]
  },
  {
   "cell_type": "code",
   "execution_count": 9,
   "id": "6662aa40",
   "metadata": {},
   "outputs": [
    {
     "name": "stdout",
     "output_type": "stream",
     "text": [
      "No rows with null values.\n"
     ]
    }
   ],
   "source": [
    "# check for null values in all rows\n",
    "null_check = filtered_df.isnull().any(axis=1)\n",
    "\n",
    "# check if there are any rows with null values\n",
    "rows_with_null = filtered_df[null_check]\n",
    "\n",
    "# display rows with null values (if any)\n",
    "if not rows_with_null.empty:\n",
    "    print(\"Rows with null values:\")\n",
    "    print(rows_with_null)\n",
    "else:\n",
    "    print(\"No rows with null values.\")\n"
   ]
  },
  {
   "cell_type": "markdown",
   "id": "6613133d",
   "metadata": {},
   "source": [
    "## Uploading data to Postgres"
   ]
  },
  {
   "cell_type": "code",
   "execution_count": 10,
   "id": "5f9a8340",
   "metadata": {},
   "outputs": [],
   "source": [
    "# Set up a connection to your PostgreSQL RDS instance\n",
    "host = 'database-2.ckuaogoaistw.us-east-1.rds.amazonaws.com'\n",
    "port = 5432\n",
    "database = 'postgres'\n",
    "user = 'postgres'\n",
    "password = 'postgres'\n",
    "\n",
    "connection = psycopg2.connect(\n",
    "    host=host,\n",
    "    port=port,\n",
    "    database=database,\n",
    "    user=user,\n",
    "    password=password\n",
    ")\n",
    "\n",
    "# create a cursor object\n",
    "cursor = connection.cursor()\n",
    "\n",
    "# create table\n",
    "table_name = 'ibge_data' \n",
    "\n",
    "# Set up a SQLAlchemy engine\n",
    "engine = create_engine(f'postgresql://{user}:{password}@{host}:{port}/{database}')\n",
    "\n",
    "# Use Pandas to create the table and insert data\n",
    "filtered_df.to_sql(\n",
    "    table_name,\n",
    "    engine,\n",
    "    if_exists='replace',  # You can use 'replace', 'append', or 'fail' depending on your needs\n",
    "    index=False  # Set to False if you don't want to include the DataFrame index as a column\n",
    ")\n",
    "\n",
    "# Commit changes and close the cursor and connection\n",
    "connection.commit()\n",
    "cursor.close()\n",
    "connection.close()"
   ]
  },
  {
   "cell_type": "code",
   "execution_count": null,
   "id": "ad4f0883-386d-4726-8696-2b831f8a4d15",
   "metadata": {},
   "outputs": [],
   "source": []
  }
 ],
 "metadata": {
  "kernelspec": {
   "display_name": "Python 3 (ipykernel)",
   "language": "python",
   "name": "python3"
  },
  "language_info": {
   "codemirror_mode": {
    "name": "ipython",
    "version": 3
   },
   "file_extension": ".py",
   "mimetype": "text/x-python",
   "name": "python",
   "nbconvert_exporter": "python",
   "pygments_lexer": "ipython3",
   "version": "3.10.4"
  }
 },
 "nbformat": 4,
 "nbformat_minor": 5
}
